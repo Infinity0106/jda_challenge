{
 "cells": [
  {
   "cell_type": "code",
   "execution_count": 1,
   "metadata": {},
   "outputs": [
    {
     "name": "stdout",
     "output_type": "stream",
     "text": [
      "/Users/infinity0106/Documents/Personal/jda_challenge\n"
     ]
    }
   ],
   "source": [
    "# Change directory to VSCode workspace root so that relative path loads work correctly. Turn this addition off with the DataScience.changeDirOnImportExport setting\n",
    "# ms-python.python added\n",
    "import os\n",
    "try:\n",
    "\tos.chdir(os.path.join(os.getcwd(), '..'))\n",
    "\tprint(os.getcwd())\n",
    "except:\n",
    "\tpass\n"
   ]
  },
  {
   "cell_type": "code",
   "execution_count": 12,
   "metadata": {},
   "outputs": [],
   "source": [
    "# importaciones para trabajar\n",
    "%matplotlib inline\n",
    "from sklearn.decomposition import PCA\n",
    "from sklearn.preprocessing import OneHotEncoder\n",
    "import numpy as np\n",
    "import pandas as pd\n",
    "from matplotlib import pyplot as plt\n",
    "import json\n",
    "from joblib import dump, load\n",
    "\n",
    "from sklearn.model_selection import train_test_split\n",
    "from sklearn.linear_model import LinearRegression\n",
    "from sklearn.impute import SimpleImputer\n"
   ]
  },
  {
   "cell_type": "code",
   "execution_count": 3,
   "metadata": {},
   "outputs": [],
   "source": [
    "# funcin para encontrar rows con valores vacios\n",
    "def display_nan(df):\n",
    "    print(df[df.isna().any(axis=1)].head())\n",
    "\n",
    "def num_categories(df, column):\n",
    "  values = df[column].unique()\n",
    "  return len(values)\n",
    "\n"
   ]
  },
  {
   "cell_type": "code",
   "execution_count": 4,
   "metadata": {},
   "outputs": [
    {
     "name": "stdout",
     "output_type": "stream",
     "text": [
      "   location  product        date  sa_quantity  temp_mean  temp_max  temp_min  \\\n",
      "0      1193        1  2011-12-31            5     10.635     11.19     10.08   \n",
      "1      1193        1  2012-01-01            0      8.845     10.76      6.93   \n",
      "2      1193        1  2012-01-02            2      5.510      7.24      3.78   \n",
      "3      1193        1  2012-01-03            2      8.915     11.61      6.22   \n",
      "4      1193        1  2012-01-04            0      7.380      8.87      5.89   \n",
      "\n",
      "   sunshine_quant                         event  price  \n",
      "0            56.0                New Year's Eve   1.48  \n",
      "1           213.0                New Year's Day    NaN  \n",
      "2           285.0       New Year's Day observed   1.50  \n",
      "3           205.0  2nd January (substitute day)   1.50  \n",
      "4           224.0                           NaN    NaN  \n"
     ]
    }
   ],
   "source": [
    "# importacion de datos\n",
    "df = pd.read_csv(\"./server/input_data_train.csv\")\n",
    "print(df.head())\n",
    "# train\n",
    "# location,product,date,sa_quantity,temp_mean,temp_max,temp_min,sunshine_quant,event,price\n",
    "# sa_quantity is deleated\n",
    "# pred\n",
    "# location,product,date,temp_mean,temp_max,temp_min,sunshine_quant,event,price\n"
   ]
  },
  {
   "cell_type": "code",
   "execution_count": 5,
   "metadata": {},
   "outputs": [
    {
     "name": "stdout",
     "output_type": "stream",
     "text": [
      "   location  product        date  sa_quantity  temp_mean  temp_max  temp_min  \\\n",
      "0      1193        1  2011-12-31            5     10.635     11.19     10.08   \n",
      "1      1193        1  2012-01-01            0      8.845     10.76      6.93   \n",
      "2      1193        1  2012-01-02            2      5.510      7.24      3.78   \n",
      "3      1193        1  2012-01-03            2      8.915     11.61      6.22   \n",
      "4      1193        1  2012-01-04            0      7.380      8.87      5.89   \n",
      "\n",
      "   sunshine_quant                         event  price  \n",
      "0            56.0                New Year's Eve   1.48  \n",
      "1           213.0                New Year's Day   0.00  \n",
      "2           285.0       New Year's Day observed   1.50  \n",
      "3           205.0  2nd January (substitute day)   1.50  \n",
      "4           224.0                          none   0.00  \n"
     ]
    }
   ],
   "source": [
    "# fill NAN of  columns aplicable\n",
    "df[[\"price\"]] = df[[\"price\"]].fillna(0)\n",
    "df[[\"event\"]] = df[[\"event\"]].fillna(\"none\")\n",
    "print(df.head())\n"
   ]
  },
  {
   "cell_type": "code",
   "execution_count": 6,
   "metadata": {},
   "outputs": [],
   "source": [
    "# sort by date\n",
    "df['date'] = pd.to_datetime(df['date'])\n",
    "df = df.sort_values(by='date', ascending=True)\n",
    "\n"
   ]
  },
  {
   "cell_type": "code",
   "execution_count": 7,
   "metadata": {},
   "outputs": [],
   "source": [
    "# remove last elements with nan in temparature and sunshine_quant\n",
    "df[[\"sunshine_quant\"]] = df[[\"sunshine_quant\"]].fillna(0)\n",
    "# df[[\"temp_mean\"]] = df[[\"temp_mean\"]].fillna(-100)\n"
   ]
  },
  {
   "cell_type": "code",
   "execution_count": 9,
   "metadata": {},
   "outputs": [
    {
     "name": "stderr",
     "output_type": "stream",
     "text": [
      "/Users/infinity0106/anaconda3/envs/ML/lib/python3.6/site-packages/pandas/plotting/_converter.py:129: FutureWarning: Using an implicitly registered datetime converter for a matplotlib plotting method. The converter was registered by pandas on import. Future versions of pandas will require you to explicitly register matplotlib converters.\n",
      "\n",
      "To register the converters:\n",
      "\t>>> from pandas.plotting import register_matplotlib_converters\n",
      "\t>>> register_matplotlib_converters()\n",
      "  warnings.warn(msg, FutureWarning)\n"
     ]
    },
    {
     "data": {
      "image/png": "[encoded data removed]",
      "text/plain": [
       "<Figure size 432x288 with 1 Axes>"
      ]
     },
     "metadata": {
      "needs_background": "light"
     },
     "output_type": "display_data"
    }
   ],
   "source": [
    "def plot_data(df, x_column, y_column):\n",
    "    plt.plot(df[x_column], df[y_column])\n",
    "    plt.xticks(rotation='vertical')\n",
    "    \n",
    "plot_data(df, 'date','location')\n",
    "plot_data(df, 'date','product')\n",
    "plot_data(df, 'date','temp_mean')\n",
    "plot_data(df, 'date','sunshine_quant')\n",
    "plot_data(df, 'date','price')"
   ]
  },
  {
   "cell_type": "code",
   "execution_count": 8,
   "metadata": {},
   "outputs": [
    {
     "name": "stdout",
     "output_type": "stream",
     "text": [
      "94\n",
      "50\n",
      "369\n"
     ]
    }
   ],
   "source": [
    "print(num_categories(df, \"event\"))\n",
    "print(num_categories(df, \"location\"))\n",
    "print(num_categories(df, \"product\"))\n"
   ]
  },
  {
   "cell_type": "code",
   "execution_count": 8,
   "metadata": {},
   "outputs": [],
   "source": [
    "# load everything\n",
    "with open('./server/columns.json') as f:\n",
    "    config = json.load(f)"
   ]
  },
  {
   "cell_type": "code",
   "execution_count": 9,
   "metadata": {},
   "outputs": [
    {
     "name": "stdout",
     "output_type": "stream",
     "text": [
      "key not existent test\n"
     ]
    }
   ],
   "source": [
    "def validate_key(df, config):\n",
    "  columns_types={\n",
    "    \"Numerical\": [],\n",
    "    \"Categorical\": [],\n",
    "    \"Date\":[]\n",
    "  }\n",
    "  for key, value in config.items():\n",
    "    try:\n",
    "      if value != \"Ignore\":\n",
    "        df[key]\n",
    "        columns_types[value].append(key)\n",
    "    except:\n",
    "      print(f\"key not existent {key}\")\n",
    "  return columns_types\n",
    "\n",
    "info = validate_key(df, config)\n"
   ]
  },
  {
   "cell_type": "code",
   "execution_count": 10,
   "metadata": {},
   "outputs": [
    {
     "name": "stdout",
     "output_type": "stream",
     "text": [
      "location\n",
      "product\n",
      "event\n"
     ]
    }
   ],
   "source": [
    "def crate_categorical(df, info):\n",
    "  for key in info[\"Categorical\"]:\n",
    "    df[key] = df[key].fillna(\"none\")\n",
    "    dftmp=pd.get_dummies(df[key], prefix=key, drop_first=True)\n",
    "    df=pd.concat([df,dftmp], axis=1)\n",
    "    df=df.drop([key], axis=1)\n",
    "    print(key)\n",
    "  return df\n",
    "\n",
    "df = crate_categorical(df, info)"
   ]
  },
  {
   "cell_type": "code",
   "execution_count": 19,
   "metadata": {},
   "outputs": [
    {
     "name": "stdout",
     "output_type": "stream",
     "text": [
      "sa_quantity\n",
      "temp_mean\n",
      "sunshine_quant\n",
      "price\n"
     ]
    }
   ],
   "source": [
    "def normalize_numeric(df, info):\n",
    "  for key in info[\"Numerical\"]:\n",
    "    df[key] = (df[key]-df[key].mean())/df[key].std()\n",
    "    df[key] = df[key].fillna(method='pad')\n",
    "    print(key)\n",
    "  return df\n",
    "\n",
    "df = normalize_numeric(df, info)"
   ]
  },
  {
   "cell_type": "code",
   "execution_count": null,
   "metadata": {},
   "outputs": [],
   "source": [
    "df.head()"
   ]
  },
  {
   "cell_type": "code",
   "execution_count": 20,
   "metadata": {},
   "outputs": [
    {
     "data": {
      "text/plain": [
       "date                                      0\n",
       "sa_quantity                               0\n",
       "temp_mean                                 0\n",
       "temp_max                             404424\n",
       "temp_min                             404424\n",
       "sunshine_quant                            0\n",
       "price                                     0\n",
       "location_71                               0\n",
       "location_97                               0\n",
       "location_136                              0\n",
       "location_152                              0\n",
       "location_165                              0\n",
       "location_220                              0\n",
       "location_246                              0\n",
       "location_301                              0\n",
       "location_327                              0\n",
       "location_343                              0\n",
       "location_369                              0\n",
       "location_437                              0\n",
       "location_576                              0\n",
       "location_657                              0\n",
       "location_709                              0\n",
       "location_770                              0\n",
       "location_903                              0\n",
       "location_1193                             0\n",
       "location_1258                             0\n",
       "location_1300                             0\n",
       "location_1355                             0\n",
       "location_1643                             0\n",
       "location_2011                             0\n",
       "                                      ...  \n",
       "event_Palm Sunday                         0\n",
       "event_Pentecost                           0\n",
       "event_Purim                               0\n",
       "event_Queen's Birthday                    0\n",
       "event_Raksha Bandhan                      0\n",
       "event_Ramadan Start                       0\n",
       "event_Remembrance Sunday                  0\n",
       "event_Rosh Hashana                        0\n",
       "event_September equinox                   0\n",
       "event_Shakespeare Day                     0\n",
       "event_Shavuot                             0\n",
       "event_Shemini Atzeret                     0\n",
       "event_Simchat Torah                       0\n",
       "event_Spring Bank Holiday                 0\n",
       "event_St Andrew's Day                     0\n",
       "event_St Patrick's Day                    0\n",
       "event_St Patrick's Day observed           0\n",
       "event_St. David's Day                     0\n",
       "event_St. George's Day                    0\n",
       "event_Summer Bank Holiday                 0\n",
       "event_The Queen's Diamond Jubilee         0\n",
       "event_Tisha B'Av                          0\n",
       "event_Trinity Sunday                      0\n",
       "event_Tu B'Shevat (Arbor Day)             0\n",
       "event_Valentine's Day                     0\n",
       "event_Whit Monday                         0\n",
       "event_Yom HaAtzmaut                       0\n",
       "event_Yom HaShoah                         0\n",
       "event_Yom Kippur                          0\n",
       "event_none                                0\n",
       "Length: 517, dtype: int64"
      ]
     },
     "execution_count": 20,
     "metadata": {},
     "output_type": "execute_result"
    }
   ],
   "source": [
    "df.isna().sum()"
   ]
  },
  {
   "cell_type": "code",
   "execution_count": 21,
   "metadata": {},
   "outputs": [
    {
     "data": {
      "text/plain": [
       "(10110600, 514)"
      ]
     },
     "execution_count": 21,
     "metadata": {},
     "output_type": "execute_result"
    }
   ],
   "source": [
    "df = df.drop([\"date\", \"temp_max\", \"temp_min\"], axis=1)\n",
    "df.shape"
   ]
  },
  {
   "cell_type": "code",
   "execution_count": 22,
   "metadata": {},
   "outputs": [],
   "source": [
    "df.to_pickle(\"./preprocesed.pkl\")"
   ]
  },
  {
   "cell_type": "code",
   "execution_count": 5,
   "metadata": {},
   "outputs": [],
   "source": [
    "df = pd.read_pickle(\"./preprocesed.pkl\")"
   ]
  },
  {
   "cell_type": "code",
   "execution_count": 6,
   "metadata": {},
   "outputs": [
    {
     "name": "stdout",
     "output_type": "stream",
     "text": [
      "         temp_mean  sunshine_quant     price  location_71  location_97  \\\n",
      "0         0.385049       -1.528898 -0.508615            0            0   \n",
      "7337720        NaN       -1.821663 -0.745488            0            0   \n",
      "7338268        NaN       -1.821663 -0.498745            0            0   \n",
      "7338816        NaN       -1.821663  0.384241            0            0   \n",
      "7339364        NaN       -1.821663 -1.238973            0            0   \n",
      "\n",
      "         location_136  location_152  location_165  location_220  location_246  \\\n",
      "0                   0             0             0             0             0   \n",
      "7337720             0             0             0             0             0   \n",
      "7338268             0             0             0             0             0   \n",
      "7338816             0             0             0             0             0   \n",
      "7339364             0             0             0             0             0   \n",
      "\n",
      "         ...  event_The Queen's Diamond Jubilee  event_Tisha B'Av  \\\n",
      "0        ...                                  0                 0   \n",
      "7337720  ...                                  0                 0   \n",
      "7338268  ...                                  0                 0   \n",
      "7338816  ...                                  0                 0   \n",
      "7339364  ...                                  0                 0   \n",
      "\n",
      "         event_Trinity Sunday  event_Tu B'Shevat (Arbor Day)  \\\n",
      "0                           0                              0   \n",
      "7337720                     0                              0   \n",
      "7338268                     0                              0   \n",
      "7338816                     0                              0   \n",
      "7339364                     0                              0   \n",
      "\n",
      "         event_Valentine's Day  event_Whit Monday  event_Yom HaAtzmaut  \\\n",
      "0                            0                  0                    0   \n",
      "7337720                      0                  0                    0   \n",
      "7338268                      0                  0                    0   \n",
      "7338816                      0                  0                    0   \n",
      "7339364                      0                  0                    0   \n",
      "\n",
      "         event_Yom HaShoah  event_Yom Kippur  event_none  \n",
      "0                        0                 0           0  \n",
      "7337720                  0                 0           0  \n",
      "7338268                  0                 0           0  \n",
      "7338816                  0                 0           0  \n",
      "7339364                  0                 0           0  \n",
      "\n",
      "[5 rows x 513 columns]\n",
      "0         -0.276511\n",
      "7337720    1.717974\n",
      "7338268   -0.506644\n",
      "7338816    1.487841\n",
      "7339364   -0.660066\n",
      "Name: sa_quantity, dtype: float64\n"
     ]
    }
   ],
   "source": [
    "X = df.drop([\"sa_quantity\"],axis=1)\n",
    "print(X.head())\n",
    "Y = df[\"sa_quantity\"]\n",
    "print(Y.head())"
   ]
  },
  {
   "cell_type": "code",
   "execution_count": 8,
   "metadata": {},
   "outputs": [
    {
     "name": "stdout",
     "output_type": "stream",
     "text": [
      "(10110600, 513) (10110600,)\n"
     ]
    }
   ],
   "source": [
    "print(X.shape, Y.shape)"
   ]
  },
  {
   "cell_type": "code",
   "execution_count": null,
   "metadata": {},
   "outputs": [],
   "source": [
    "x_train, x_test, y_train, y_test = train_test_split(X, Y, test_size=0.3, random_state=69)"
   ]
  },
  {
   "cell_type": "code",
   "execution_count": null,
   "metadata": {},
   "outputs": [],
   "source": [
    "model = LinearRegression()\n",
    "model.fit(x_train, y_train)\n",
    "print(model.score(x_test, y_test))"
   ]
  },
  {
   "cell_type": "code",
   "execution_count": null,
   "metadata": {},
   "outputs": [],
   "source": []
  }
 ],
 "metadata": {
  "file_extension": ".py",
  "kernelspec": {
   "display_name": "Python 3",
   "language": "python",
   "name": "python3"
  },
  "language_info": {
   "codemirror_mode": {
    "name": "ipython",
    "version": 3
   },
   "file_extension": ".py",
   "mimetype": "text/x-python",
   "name": "python",
   "nbconvert_exporter": "python",
   "pygments_lexer": "ipython3",
   "version": "3.6.8"
  },
  "mimetype": "text/x-python",
  "name": "python",
  "npconvert_exporter": "python",
  "pygments_lexer": "ipython3",
  "version": 3
 },
 "nbformat": 4,
 "nbformat_minor": 2
}
