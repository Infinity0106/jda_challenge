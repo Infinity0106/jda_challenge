{
 "cells": [
  {
   "cell_type": "code",
   "execution_count": 4,
   "metadata": {},
   "outputs": [
    {
     "name": "stdout",
     "output_type": "stream",
     "text": [
      "/Users/infinity0106/Documents/Personal/jda_challenge\n"
     ]
    }
   ],
   "source": [
    "# Change directory to VSCode workspace root so that relative path loads work correctly. Turn this addition off with the DataScience.changeDirOnImportExport setting\n",
    "# ms-python.python added\n",
    "import os\n",
    "try:\n",
    "\tos.chdir(os.path.join(os.getcwd(), '..'))\n",
    "\tprint(os.getcwd())\n",
    "except:\n",
    "\tpass\n"
   ]
  },
  {
   "cell_type": "code",
   "execution_count": 15,
   "metadata": {},
   "outputs": [],
   "source": [
    "from keras import backend as K\n",
    "from keras.models import Sequential, load_model\n",
    "from keras.layers import Dense, LSTM, Dropout, TimeDistributed, Lambda\n",
    "from keras.callbacks import ModelCheckpoint\n",
    "import pandas as pd\n",
    "from sklearn.model_selection import train_test_split\n",
    "from sklearn.linear_model import LinearRegression\n",
    "from sklearn.impute import SimpleImputer"
   ]
  },
  {
   "cell_type": "code",
   "execution_count": 2,
   "metadata": {},
   "outputs": [],
   "source": [
    "class JDAKeras():\n",
    "    def __init__(self):\n",
    "        self.regressor = Sequential()\n",
    "\n",
    "    def add_layers(self, input, output):\n",
    "        # Initialising the RNN\n",
    "        self.regressor.add(LSTM(units=50,\n",
    "                                activation='tanh',\n",
    "                                input_shape=input,\n",
    "                                return_sequences=True))\n",
    "        self.regressor.add(Dropout(0.6))\n",
    "\n",
    "        self.regressor.add(LSTM(units=50,\n",
    "                                activation='tanh',\n",
    "                                return_sequences=True))\n",
    "        self.regressor.add(Dropout(0.6))\n",
    "\n",
    "        self.regressor.add(LSTM(units=50,\n",
    "                                activation='tanh',\n",
    "                                return_sequences=True))\n",
    "        self.regressor.add(Dropout(0.6))\n",
    "\n",
    "        self.regressor.add(LSTM(units=50,\n",
    "                                activation='tanh',\n",
    "                                return_sequences=True))\n",
    "        self.regressor.add(Dropout(0.6))\n",
    "\n",
    "        self.regressor.add(LSTM(units=50,\n",
    "                                activation='tanh',\n",
    "                                return_sequences=True))\n",
    "        self.regressor.add(Dropout(0.6))\n",
    "\n",
    "        self.regressor.add(LSTM(units=50,\n",
    "                                activation='tanh',\n",
    "                                return_sequences=True))\n",
    "        self.regressor.add(Dropout(0.6))\n",
    "\n",
    "        self.regressor.add(LSTM(units=50,\n",
    "                                activation='tanh'))\n",
    "        self.regressor.add(Dropout(0.6))\n",
    "\n",
    "        # Adding the output layer\n",
    "        # self.regressor.add(Lambda(lambda x: x[:, -output:, :])) # less output size\n",
    "        self.regressor.add(Dense(1))  # same size output\n",
    "\n",
    "        print(self.regressor.summary())\n",
    "\n",
    "    def optimizers(self):\n",
    "        # Compiling the RNN\n",
    "        self.regressor.compile(\n",
    "            optimizer=\"adam\", loss='mean_squared_error', metrics=[\"accuracy\"])\n",
    "\n",
    "    def train(self, X_train, y_train, validation_data, epochs=100, batch_size=5000, currency=\"EURUSD1\"):\n",
    "        # Check points\n",
    "        filepath = currency + \\\n",
    "            \"-weights-improvement-{epoch:02d}-{val_acc:.2f}.hdf5\"\n",
    "        checkpoint = ModelCheckpoint(filepath, monitor='val_acc', verbose=1,\n",
    "                                     save_best_only=True, save_weights_only=False, period=1, mode='max')\n",
    "        callbacks_list = [checkpoint]\n",
    "        # Fitting the RNN to the Training set\n",
    "        self.regressor.fit(X_train, y_train, epochs=epochs, batch_size=batch_size,\n",
    "                           callbacks=callbacks_list, validation_data=validation_data)\n",
    "\n",
    "    def save_model(self, name):\n",
    "        self.regressor.save(f\"{name}.h5\")\n",
    "\n",
    "    def load_model(self, path):\n",
    "        self.regressor = load_model(path)\n",
    "\n",
    "    def predict(self, X_test):\n",
    "        return self.regressor.predict(X_test)"
   ]
  },
  {
   "cell_type": "code",
   "execution_count": 17,
   "metadata": {},
   "outputs": [],
   "source": [
    "if __name__ == \"__main__\":\n",
    "    df = pd.read_pickle(\"./preprocesed.pkl\")\n",
    "    X = df.drop([\"sa_quantity\"], axis=1)\n",
    "    Y = df[\"sa_quantity\"]\n",
    "    x_train, x_test, y_train, y_test = train_test_split(\n",
    "        X, Y, test_size=0.3, random_state=69)"
   ]
  },
  {
   "cell_type": "code",
   "execution_count": null,
   "metadata": {},
   "outputs": [],
   "source": [
    "    model = LinearRegression()\n",
    "    model.fit(x_train, y_train)\n",
    "    print(model.score(x_test, y_test))"
   ]
  },
  {
   "cell_type": "code",
   "execution_count": null,
   "metadata": {},
   "outputs": [],
   "source": [
    "print(1)"
   ]
  },
  {
   "cell_type": "code",
   "execution_count": 13,
   "metadata": {},
   "outputs": [
    {
     "name": "stdout",
     "output_type": "stream",
     "text": [
      "_________________________________________________________________\n",
      "Layer (type)                 Output Shape              Param #   \n",
      "=================================================================\n",
      "lstm_11 (LSTM)               (None, 1, 50)             112800    \n",
      "_________________________________________________________________\n",
      "dropout_8 (Dropout)          (None, 1, 50)             0         \n",
      "_________________________________________________________________\n",
      "lstm_12 (LSTM)               (None, 1, 50)             20200     \n",
      "_________________________________________________________________\n",
      "dropout_9 (Dropout)          (None, 1, 50)             0         \n",
      "_________________________________________________________________\n",
      "lstm_13 (LSTM)               (None, 1, 50)             20200     \n",
      "_________________________________________________________________\n",
      "dropout_10 (Dropout)         (None, 1, 50)             0         \n",
      "_________________________________________________________________\n",
      "lstm_14 (LSTM)               (None, 1, 50)             20200     \n",
      "_________________________________________________________________\n",
      "dropout_11 (Dropout)         (None, 1, 50)             0         \n",
      "_________________________________________________________________\n",
      "lstm_15 (LSTM)               (None, 1, 50)             20200     \n",
      "_________________________________________________________________\n",
      "dropout_12 (Dropout)         (None, 1, 50)             0         \n",
      "_________________________________________________________________\n",
      "lstm_16 (LSTM)               (None, 1, 50)             20200     \n",
      "_________________________________________________________________\n",
      "dropout_13 (Dropout)         (None, 1, 50)             0         \n",
      "_________________________________________________________________\n",
      "lstm_17 (LSTM)               (None, 50)                20200     \n",
      "_________________________________________________________________\n",
      "dropout_14 (Dropout)         (None, 50)                0         \n",
      "_________________________________________________________________\n",
      "dense_2 (Dense)              (None, 1)                 51        \n",
      "=================================================================\n",
      "Total params: 234,051\n",
      "Trainable params: 234,051\n",
      "Non-trainable params: 0\n",
      "_________________________________________________________________\n",
      "None\n"
     ]
    }
   ],
   "source": [
    "    print(x)\n",
    "    model = JDAKeras()\n",
    "    model.add_layers((1,x_train.shape[1]), 1)\n",
    "    "
   ]
  },
  {
   "cell_type": "code",
   "execution_count": null,
   "metadata": {},
   "outputs": [],
   "source": [
    "    model.train()"
   ]
  }
 ],
 "metadata": {
  "kernelspec": {
   "display_name": "Python 3",
   "language": "python",
   "name": "python3"
  },
  "language_info": {
   "codemirror_mode": {
    "name": "ipython",
    "version": 3
   },
   "file_extension": ".py",
   "mimetype": "text/x-python",
   "name": "python",
   "nbconvert_exporter": "python",
   "pygments_lexer": "ipython3",
   "version": "3.6.8"
  }
 },
 "nbformat": 4,
 "nbformat_minor": 2
}
